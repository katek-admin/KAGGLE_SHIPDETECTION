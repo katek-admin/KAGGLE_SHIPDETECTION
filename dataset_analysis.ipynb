{
 "cells": [
  {
   "cell_type": "code",
   "execution_count": 2,
   "metadata": {},
   "outputs": [],
   "source": [
    "import pandas as pd\n",
    "import os\n",
    "import sys\n",
    "import numpy as np\n",
    "import matplotlib.pyplot as plt\n",
    "\n",
    "MASK_CSV_PATH = '/inputdata/train_ship_segmentations_v2.csv'"
   ]
  },
  {
   "cell_type": "code",
   "execution_count": 3,
   "metadata": {},
   "outputs": [
    {
     "name": "stdout",
     "output_type": "stream",
     "text": [
      "/Users/kate/Documents/KAGGLE_SHIPDETECTION/inputdata/train_ship_segmentations_v2.csv\n"
     ]
    }
   ],
   "source": [
    "print(os.getcwd()+MASK_CSV_PATH)\n"
   ]
  },
  {
   "cell_type": "code",
   "execution_count": 4,
   "metadata": {},
   "outputs": [
    {
     "data": {
      "text/html": [
       "<div>\n",
       "<style scoped>\n",
       "    .dataframe tbody tr th:only-of-type {\n",
       "        vertical-align: middle;\n",
       "    }\n",
       "\n",
       "    .dataframe tbody tr th {\n",
       "        vertical-align: top;\n",
       "    }\n",
       "\n",
       "    .dataframe thead th {\n",
       "        text-align: right;\n",
       "    }\n",
       "</style>\n",
       "<table border=\"1\" class=\"dataframe\">\n",
       "  <thead>\n",
       "    <tr style=\"text-align: right;\">\n",
       "      <th></th>\n",
       "      <th>ImageId</th>\n",
       "      <th>EncodedPixels</th>\n",
       "    </tr>\n",
       "  </thead>\n",
       "  <tbody>\n",
       "    <tr>\n",
       "      <th>0</th>\n",
       "      <td>00003e153.jpg</td>\n",
       "      <td>NaN</td>\n",
       "    </tr>\n",
       "    <tr>\n",
       "      <th>1</th>\n",
       "      <td>0001124c7.jpg</td>\n",
       "      <td>NaN</td>\n",
       "    </tr>\n",
       "    <tr>\n",
       "      <th>2</th>\n",
       "      <td>000155de5.jpg</td>\n",
       "      <td>264661 17 265429 33 266197 33 266965 33 267733...</td>\n",
       "    </tr>\n",
       "    <tr>\n",
       "      <th>3</th>\n",
       "      <td>000194a2d.jpg</td>\n",
       "      <td>360486 1 361252 4 362019 5 362785 8 363552 10 ...</td>\n",
       "    </tr>\n",
       "    <tr>\n",
       "      <th>4</th>\n",
       "      <td>000194a2d.jpg</td>\n",
       "      <td>51834 9 52602 9 53370 9 54138 9 54906 9 55674 ...</td>\n",
       "    </tr>\n",
       "  </tbody>\n",
       "</table>\n",
       "</div>"
      ],
      "text/plain": [
       "         ImageId                                      EncodedPixels\n",
       "0  00003e153.jpg                                                NaN\n",
       "1  0001124c7.jpg                                                NaN\n",
       "2  000155de5.jpg  264661 17 265429 33 266197 33 266965 33 267733...\n",
       "3  000194a2d.jpg  360486 1 361252 4 362019 5 362785 8 363552 10 ...\n",
       "4  000194a2d.jpg  51834 9 52602 9 53370 9 54138 9 54906 9 55674 ..."
      ]
     },
     "execution_count": 4,
     "metadata": {},
     "output_type": "execute_result"
    }
   ],
   "source": [
    "\n",
    "masks_df = pd.read_csv(os.getcwd()+MASK_CSV_PATH)     \n",
    "masks_df.head()"
   ]
  },
  {
   "cell_type": "code",
   "execution_count": 10,
   "metadata": {},
   "outputs": [
    {
     "data": {
      "text/plain": [
       "(231723, 2)"
      ]
     },
     "execution_count": 10,
     "metadata": {},
     "output_type": "execute_result"
    }
   ],
   "source": [
    "masks_df.shape"
   ]
  },
  {
   "cell_type": "code",
   "execution_count": 19,
   "metadata": {},
   "outputs": [
    {
     "data": {
      "text/plain": [
       "0.3526753926023744"
      ]
     },
     "execution_count": 19,
     "metadata": {},
     "output_type": "execute_result"
    }
   ],
   "source": [
    "masks_df_notna=masks_df[masks_df['EncodedPixels'].notna()]['EncodedPixels'].count()\n",
    "masks_df_notna/masks_df['ImageId'].count()"
   ]
  },
  {
   "cell_type": "code",
   "execution_count": 14,
   "metadata": {},
   "outputs": [
    {
     "data": {
      "text/plain": [
       "ImageId          150000\n",
       "EncodedPixels         0\n",
       "dtype: int64"
      ]
     },
     "execution_count": 14,
     "metadata": {},
     "output_type": "execute_result"
    }
   ],
   "source": [
    "masks_df_na=masks_df[masks_df['EncodedPixels'].isna()].count()\n",
    "masks_df_na"
   ]
  },
  {
   "cell_type": "code",
   "execution_count": null,
   "metadata": {},
   "outputs": [],
   "source": [
    "# Split the data\n",
    "X_train, X_val, y_train, y_val = train_test_split(images, masks, test_size=VALIDATION_SPLIT, random_state=42)\n",
    "\n",
    "X_train = tf.data.Dataset.from_tensor_slices(X_train)\n",
    "y_train = tf.data.Dataset.from_tensor_slices(y_train)\n",
    "\n",
    "X_val = tf.data.Dataset.from_tensor_slices(X_val)\n",
    "y_val = tf.data.Dataset.from_tensor_slices(y_val)\n",
    "\n",
    "#X_test = tf.data.Dataset.from_tensor_slices(X_test)\n",
    "\n",
    "# Add labels to dataframe objects (one-hot-encoded)\n",
    "train_dataset = tf.data.Dataset.zip((X_train, y_train))\n",
    "val_dataset = tf.data.Dataset.zip((X_val, y_val))\n",
    "\n",
    "# Apply the batch size to the dataset\n",
    "batched_train_dataset = train_dataset.batch(BATCH_SIZE)\n",
    "batched_val_dataset = val_dataset.batch(BATCH_SIZE)\n",
    "#batched_test_dataset = X_test.batch(BATCH_SIZE)\n",
    "\n",
    "# Adding autotune for pre-fetching\n",
    "AUTOTUNE = tf.data.experimental.AUTOTUNE\n",
    "batched_train_dataset = batched_train_dataset.prefetch(buffer_size=AUTOTUNE)\n",
    "batched_val_dataset = batched_val_dataset.prefetch(buffer_size=AUTOTUNE)\n",
    "#batched_test_dataset = batched_test_dataset.prefetch(buffer_size=AUTOTUNE)"
   ]
  },
  {
   "cell_type": "code",
   "execution_count": null,
   "metadata": {},
   "outputs": [],
   "source": [
    "#check data\n",
    "# View images and associated labels\n",
    "for images, masks in batched_train_dataset.take(2):\n",
    "    car_number = 0\n",
    "    plt.figure(figsize=(12, 4))\n",
    "    for image_slot in range(12):\n",
    "        ax = plt.subplot(2, 6, image_slot + 1)\n",
    "        if image_slot % 2 == 0:\n",
    "            print(car_number)\n",
    "            plt.imshow((images[car_number])) \n",
    "            class_name = 'Image'\n",
    "        else:\n",
    "            plt.imshow(masks[car_number], cmap = 'gray')\n",
    "            #plt.colorbar()\n",
    "            class_name = 'Mask'\n",
    "            car_number += 1            \n",
    "        plt.title(class_name)\n",
    "        plt.axis(\"off\")\n",
    "    plt.show()"
   ]
  }
 ],
 "metadata": {
  "kernelspec": {
   "display_name": "Python (jvenv)",
   "language": "python",
   "name": "jvenv"
  },
  "language_info": {
   "codemirror_mode": {
    "name": "ipython",
    "version": 3
   },
   "file_extension": ".py",
   "mimetype": "text/x-python",
   "name": "python",
   "nbconvert_exporter": "python",
   "pygments_lexer": "ipython3",
   "version": "3.12.2"
  }
 },
 "nbformat": 4,
 "nbformat_minor": 2
}
